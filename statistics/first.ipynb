{
 "cells": [
  {
   "cell_type": "code",
   "execution_count": 1,
   "metadata": {},
   "outputs": [],
   "source": [
    "import numpy as np\n",
    "import pandas as pd\n",
    "import matplotlib.pyplot as plt\n",
    "import seaborn as sns"
   ]
  },
  {
   "cell_type": "code",
   "execution_count": 2,
   "metadata": {},
   "outputs": [],
   "source": [
    "ar = np.array([1, 2, 3, 4, 5, 67, 41, 0, 89, 75, 41, 25])"
   ]
  },
  {
   "cell_type": "code",
   "execution_count": 3,
   "metadata": {},
   "outputs": [
    {
     "data": {
      "text/plain": [
       "np.int64(353)"
      ]
     },
     "execution_count": 3,
     "metadata": {},
     "output_type": "execute_result"
    }
   ],
   "source": [
    "np.sum(ar)"
   ]
  },
  {
   "cell_type": "code",
   "execution_count": 4,
   "metadata": {},
   "outputs": [
    {
     "data": {
      "text/plain": [
       "12"
      ]
     },
     "execution_count": 4,
     "metadata": {},
     "output_type": "execute_result"
    }
   ],
   "source": [
    "len(ar)"
   ]
  },
  {
   "cell_type": "code",
   "execution_count": 5,
   "metadata": {},
   "outputs": [
    {
     "data": {
      "text/plain": [
       "np.float64(29.416666666666668)"
      ]
     },
     "execution_count": 5,
     "metadata": {},
     "output_type": "execute_result"
    }
   ],
   "source": [
    "np.sum(ar)/len(ar)"
   ]
  },
  {
   "cell_type": "code",
   "execution_count": 6,
   "metadata": {},
   "outputs": [
    {
     "data": {
      "text/plain": [
       "array([ 0,  1,  2,  3,  4,  5, 25, 41, 41, 67, 75, 89])"
      ]
     },
     "execution_count": 6,
     "metadata": {},
     "output_type": "execute_result"
    }
   ],
   "source": [
    "np.sort(ar)"
   ]
  },
  {
   "cell_type": "code",
   "execution_count": 7,
   "metadata": {},
   "outputs": [
    {
     "data": {
      "text/plain": [
       "np.float64(29.416666666666668)"
      ]
     },
     "execution_count": 7,
     "metadata": {},
     "output_type": "execute_result"
    }
   ],
   "source": [
    "np.mean(ar)"
   ]
  },
  {
   "cell_type": "code",
   "execution_count": null,
   "metadata": {},
   "outputs": [],
   "source": [
    "dataset = pd.read_csv(\"../dataset/Train.csv\")"
   ]
  },
  {
   "cell_type": "code",
   "execution_count": 9,
   "metadata": {},
   "outputs": [
    {
     "data": {
      "text/html": [
       "<div>\n",
       "<style scoped>\n",
       "    .dataframe tbody tr th:only-of-type {\n",
       "        vertical-align: middle;\n",
       "    }\n",
       "\n",
       "    .dataframe tbody tr th {\n",
       "        vertical-align: top;\n",
       "    }\n",
       "\n",
       "    .dataframe thead th {\n",
       "        text-align: right;\n",
       "    }\n",
       "</style>\n",
       "<table border=\"1\" class=\"dataframe\">\n",
       "  <thead>\n",
       "    <tr style=\"text-align: right;\">\n",
       "      <th></th>\n",
       "      <th>Date</th>\n",
       "      <th>Category</th>\n",
       "      <th>Brand</th>\n",
       "      <th>Day_of_Week</th>\n",
       "      <th>Holiday_Indicator</th>\n",
       "      <th>Past_Purchase_Trends</th>\n",
       "      <th>Price</th>\n",
       "      <th>Discount</th>\n",
       "      <th>Competitor_Price</th>\n",
       "      <th>Sales_Quantity</th>\n",
       "    </tr>\n",
       "  </thead>\n",
       "  <tbody>\n",
       "    <tr>\n",
       "      <th>0</th>\n",
       "      <td>26/09/24</td>\n",
       "      <td>Automotive</td>\n",
       "      <td>BrandA</td>\n",
       "      <td>3</td>\n",
       "      <td>0</td>\n",
       "      <td>17.9</td>\n",
       "      <td>462.30</td>\n",
       "      <td>33.96</td>\n",
       "      <td>359.45</td>\n",
       "      <td>227.0</td>\n",
       "    </tr>\n",
       "    <tr>\n",
       "      <th>1</th>\n",
       "      <td>26/09/24</td>\n",
       "      <td>Automotive</td>\n",
       "      <td>BrandA</td>\n",
       "      <td>3</td>\n",
       "      <td>0</td>\n",
       "      <td>66.3</td>\n",
       "      <td>321.28</td>\n",
       "      <td>24.76</td>\n",
       "      <td>49.47</td>\n",
       "      <td>370.0</td>\n",
       "    </tr>\n",
       "    <tr>\n",
       "      <th>2</th>\n",
       "      <td>26/09/24</td>\n",
       "      <td>Automotive</td>\n",
       "      <td>BrandA</td>\n",
       "      <td>3</td>\n",
       "      <td>0</td>\n",
       "      <td>14.4</td>\n",
       "      <td>74.85</td>\n",
       "      <td>32.19</td>\n",
       "      <td>245.11</td>\n",
       "      <td>299.0</td>\n",
       "    </tr>\n",
       "    <tr>\n",
       "      <th>3</th>\n",
       "      <td>26/09/24</td>\n",
       "      <td>Automotive</td>\n",
       "      <td>BrandA</td>\n",
       "      <td>3</td>\n",
       "      <td>0</td>\n",
       "      <td>34.7</td>\n",
       "      <td>469.12</td>\n",
       "      <td>43.68</td>\n",
       "      <td>144.08</td>\n",
       "      <td>426.0</td>\n",
       "    </tr>\n",
       "    <tr>\n",
       "      <th>4</th>\n",
       "      <td>22/09/24</td>\n",
       "      <td>Automotive</td>\n",
       "      <td>BrandA</td>\n",
       "      <td>6</td>\n",
       "      <td>1</td>\n",
       "      <td>93.5</td>\n",
       "      <td>221.76</td>\n",
       "      <td>36.79</td>\n",
       "      <td>478.07</td>\n",
       "      <td>470.0</td>\n",
       "    </tr>\n",
       "  </tbody>\n",
       "</table>\n",
       "</div>"
      ],
      "text/plain": [
       "       Date    Category   Brand  Day_of_Week  Holiday_Indicator  \\\n",
       "0  26/09/24  Automotive  BrandA            3                  0   \n",
       "1  26/09/24  Automotive  BrandA            3                  0   \n",
       "2  26/09/24  Automotive  BrandA            3                  0   \n",
       "3  26/09/24  Automotive  BrandA            3                  0   \n",
       "4  22/09/24  Automotive  BrandA            6                  1   \n",
       "\n",
       "   Past_Purchase_Trends   Price  Discount  Competitor_Price  Sales_Quantity  \n",
       "0                  17.9  462.30     33.96            359.45           227.0  \n",
       "1                  66.3  321.28     24.76             49.47           370.0  \n",
       "2                  14.4   74.85     32.19            245.11           299.0  \n",
       "3                  34.7  469.12     43.68            144.08           426.0  \n",
       "4                  93.5  221.76     36.79            478.07           470.0  "
      ]
     },
     "execution_count": 9,
     "metadata": {},
     "output_type": "execute_result"
    }
   ],
   "source": [
    "dataset.head(5)"
   ]
  },
  {
   "cell_type": "code",
   "execution_count": 10,
   "metadata": {},
   "outputs": [
    {
     "data": {
      "text/plain": [
       "np.float64(275.11118433154786)"
      ]
     },
     "execution_count": 10,
     "metadata": {},
     "output_type": "execute_result"
    }
   ],
   "source": [
    "np.mean(dataset[\"Price\"])"
   ]
  },
  {
   "cell_type": "code",
   "execution_count": 11,
   "metadata": {},
   "outputs": [],
   "source": [
    "mn = dataset['Price'].mean()"
   ]
  },
  {
   "cell_type": "code",
   "execution_count": 12,
   "metadata": {},
   "outputs": [],
   "source": [
    "md = dataset[\"Price\"].median()"
   ]
  },
  {
   "cell_type": "code",
   "execution_count": 13,
   "metadata": {},
   "outputs": [
    {
     "data": {
      "image/png": "[encoded data removed]",
      "text/plain": [
       "<Figure size 640x480 with 1 Axes>"
      ]
     },
     "metadata": {},
     "output_type": "display_data"
    }
   ],
   "source": [
    "sns.histplot(x=\"Price\", data=dataset, bins=[i for  i in range (0, 600, 100)])\n",
    "plt.plot([mn for i in range (0,4500)],[i for i in range (0,4500)], c=\"red\")\n",
    "plt.plot([md for i in range(0,4600)],[i for i in range(0,4600)], c=\"blue\")\n",
    "plt.show()"
   ]
  },
  {
   "cell_type": "code",
   "execution_count": 14,
   "metadata": {},
   "outputs": [
    {
     "data": {
      "text/plain": [
       "np.float64(275.15)"
      ]
     },
     "execution_count": 14,
     "metadata": {},
     "output_type": "execute_result"
    }
   ],
   "source": [
    "np.median(dataset[\"Price\"])"
   ]
  },
  {
   "cell_type": "code",
   "execution_count": 15,
   "metadata": {},
   "outputs": [
    {
     "data": {
      "text/plain": [
       "0    BrandE\n",
       "Name: Brand, dtype: object"
      ]
     },
     "execution_count": 15,
     "metadata": {},
     "output_type": "execute_result"
    }
   ],
   "source": [
    "dataset[\"Brand\"].mode()"
   ]
  },
  {
   "cell_type": "code",
   "execution_count": 16,
   "metadata": {},
   "outputs": [
    {
     "data": {
      "text/plain": [
       "Brand\n",
       "BrandE    3149\n",
       "BrandA    3148\n",
       "BrandF    3145\n",
       "BrandD    3027\n",
       "BrandB    3007\n",
       "BrandC    3007\n",
       "Name: count, dtype: int64"
      ]
     },
     "execution_count": 16,
     "metadata": {},
     "output_type": "execute_result"
    }
   ],
   "source": [
    "dataset[\"Brand\"].value_counts()"
   ]
  },
  {
   "cell_type": "code",
   "execution_count": 17,
   "metadata": {},
   "outputs": [],
   "source": [
    "secA = [68, 78, 75, 70, 65, 69, 67]\n",
    "secB = [95, 90, 96, 41, 46, 52, 70]\n",
    "no = [1, 2, 3 , 4, 5, 6, 7]\n",
    "meanA = np.mean(secA)\n",
    "meanB = np.mean(secB)"
   ]
  },
  {
   "cell_type": "code",
   "execution_count": 18,
   "metadata": {},
   "outputs": [
    {
     "data": {
      "text/plain": [
       "<matplotlib.legend.Legend at 0x21e7cfa8c20>"
      ]
     },
     "execution_count": 18,
     "metadata": {},
     "output_type": "execute_result"
    },
    {
     "data": {
      "image/png": "[encoded data removed]",
      "text/plain": [
       "<Figure size 1000x300 with 1 Axes>"
      ]
     },
     "metadata": {},
     "output_type": "display_data"
    }
   ],
   "source": [
    "plt.figure(figsize= (10,3))\n",
    "plt.scatter(secA,no, color = \"green\", label = \"Section A\")\n",
    "plt.scatter(secB, no, color=\"red\", label=\"Section B\")\n",
    "plt.plot([meanA for i in range(1,8)], [i for i in range (1,8)], c = \"blue\", label=\"Mean of Sec A\")\n",
    "plt.plot([meanB for i in range(1,8)], [i for i in range (1,8)], c = \"black\", label=\"Mean of Sec B\")\n",
    "plt.legend()"
   ]
  },
  {
   "cell_type": "code",
   "execution_count": 19,
   "metadata": {},
   "outputs": [
    {
     "data": {
      "text/plain": [
       "(np.float64(3.551020408163268), np.float64(20.285714285714285))"
      ]
     },
     "execution_count": 19,
     "metadata": {},
     "output_type": "execute_result"
    }
   ],
   "source": [
    "mad_A = np.sum(np.abs(secA-meanA))/len(secA)\n",
    "mad_B = np.sum(np.abs(secB-meanB))/len(secB)\n",
    "mad_A,mad_B"
   ]
  },
  {
   "cell_type": "code",
   "execution_count": 20,
   "metadata": {},
   "outputs": [
    {
     "data": {
      "text/plain": [
       "(np.float64(4.266624149448023), np.float64(22.174631580125197))"
      ]
     },
     "execution_count": 20,
     "metadata": {},
     "output_type": "execute_result"
    }
   ],
   "source": [
    "np.std(secA), np.std(secB)"
   ]
  },
  {
   "cell_type": "code",
   "execution_count": 21,
   "metadata": {},
   "outputs": [
    {
     "data": {
      "text/plain": [
       "(np.float64(18.204081632653065), np.float64(491.7142857142857))"
      ]
     },
     "execution_count": 21,
     "metadata": {},
     "output_type": "execute_result"
    }
   ],
   "source": [
    "np.var(secA), np.var(secB)"
   ]
  },
  {
   "cell_type": "code",
   "execution_count": 22,
   "metadata": {},
   "outputs": [
    {
     "data": {
      "text/plain": [
       "np.float64(16829.898761790562)"
      ]
     },
     "execution_count": 22,
     "metadata": {},
     "output_type": "execute_result"
    }
   ],
   "source": [
    "np.var(dataset[\"Price\"])"
   ]
  },
  {
   "cell_type": "code",
   "execution_count": 23,
   "metadata": {},
   "outputs": [
    {
     "data": {
      "text/plain": [
       "<Axes: xlabel='Price', ylabel='Count'>"
      ]
     },
     "execution_count": 23,
     "metadata": {},
     "output_type": "execute_result"
    },
    {
     "data": {
      "image/png": "[encoded data removed]",
      "text/plain": [
       "<Figure size 640x480 with 1 Axes>"
      ]
     },
     "metadata": {},
     "output_type": "display_data"
    }
   ],
   "source": [
    "sns.histplot(x=\"Price\", data=dataset)"
   ]
  },
  {
   "cell_type": "code",
   "execution_count": 24,
   "metadata": {},
   "outputs": [
    {
     "data": {
      "text/html": [
       "<div>\n",
       "<style scoped>\n",
       "    .dataframe tbody tr th:only-of-type {\n",
       "        vertical-align: middle;\n",
       "    }\n",
       "\n",
       "    .dataframe tbody tr th {\n",
       "        vertical-align: top;\n",
       "    }\n",
       "\n",
       "    .dataframe thead th {\n",
       "        text-align: right;\n",
       "    }\n",
       "</style>\n",
       "<table border=\"1\" class=\"dataframe\">\n",
       "  <thead>\n",
       "    <tr style=\"text-align: right;\">\n",
       "      <th></th>\n",
       "      <th>Day_of_Week</th>\n",
       "      <th>Holiday_Indicator</th>\n",
       "      <th>Past_Purchase_Trends</th>\n",
       "      <th>Price</th>\n",
       "      <th>Discount</th>\n",
       "      <th>Competitor_Price</th>\n",
       "      <th>Sales_Quantity</th>\n",
       "    </tr>\n",
       "  </thead>\n",
       "  <tbody>\n",
       "    <tr>\n",
       "      <th>count</th>\n",
       "      <td>18483.000000</td>\n",
       "      <td>18483.000000</td>\n",
       "      <td>18483.000000</td>\n",
       "      <td>18483.000000</td>\n",
       "      <td>18483.000000</td>\n",
       "      <td>18483.000000</td>\n",
       "      <td>18019.000000</td>\n",
       "    </tr>\n",
       "    <tr>\n",
       "      <th>mean</th>\n",
       "      <td>2.991235</td>\n",
       "      <td>0.142022</td>\n",
       "      <td>52.329465</td>\n",
       "      <td>275.111184</td>\n",
       "      <td>27.490937</td>\n",
       "      <td>259.858758</td>\n",
       "      <td>255.665631</td>\n",
       "    </tr>\n",
       "    <tr>\n",
       "      <th>std</th>\n",
       "      <td>2.000765</td>\n",
       "      <td>0.349083</td>\n",
       "      <td>27.410577</td>\n",
       "      <td>129.733609</td>\n",
       "      <td>13.022521</td>\n",
       "      <td>126.653165</td>\n",
       "      <td>141.179795</td>\n",
       "    </tr>\n",
       "    <tr>\n",
       "      <th>min</th>\n",
       "      <td>0.000000</td>\n",
       "      <td>0.000000</td>\n",
       "      <td>5.000000</td>\n",
       "      <td>50.070000</td>\n",
       "      <td>5.000000</td>\n",
       "      <td>40.070000</td>\n",
       "      <td>10.000000</td>\n",
       "    </tr>\n",
       "    <tr>\n",
       "      <th>25%</th>\n",
       "      <td>1.000000</td>\n",
       "      <td>0.000000</td>\n",
       "      <td>28.900000</td>\n",
       "      <td>163.315000</td>\n",
       "      <td>16.265000</td>\n",
       "      <td>149.530000</td>\n",
       "      <td>133.500000</td>\n",
       "    </tr>\n",
       "    <tr>\n",
       "      <th>50%</th>\n",
       "      <td>3.000000</td>\n",
       "      <td>0.000000</td>\n",
       "      <td>52.500000</td>\n",
       "      <td>275.150000</td>\n",
       "      <td>27.600000</td>\n",
       "      <td>260.260000</td>\n",
       "      <td>257.000000</td>\n",
       "    </tr>\n",
       "    <tr>\n",
       "      <th>75%</th>\n",
       "      <td>5.000000</td>\n",
       "      <td>0.000000</td>\n",
       "      <td>75.700000</td>\n",
       "      <td>387.650000</td>\n",
       "      <td>38.690000</td>\n",
       "      <td>368.520000</td>\n",
       "      <td>377.000000</td>\n",
       "    </tr>\n",
       "    <tr>\n",
       "      <th>max</th>\n",
       "      <td>6.000000</td>\n",
       "      <td>1.000000</td>\n",
       "      <td>100.000000</td>\n",
       "      <td>499.900000</td>\n",
       "      <td>49.990000</td>\n",
       "      <td>479.990000</td>\n",
       "      <td>499.000000</td>\n",
       "    </tr>\n",
       "  </tbody>\n",
       "</table>\n",
       "</div>"
      ],
      "text/plain": [
       "        Day_of_Week  Holiday_Indicator  Past_Purchase_Trends         Price  \\\n",
       "count  18483.000000       18483.000000          18483.000000  18483.000000   \n",
       "mean       2.991235           0.142022             52.329465    275.111184   \n",
       "std        2.000765           0.349083             27.410577    129.733609   \n",
       "min        0.000000           0.000000              5.000000     50.070000   \n",
       "25%        1.000000           0.000000             28.900000    163.315000   \n",
       "50%        3.000000           0.000000             52.500000    275.150000   \n",
       "75%        5.000000           0.000000             75.700000    387.650000   \n",
       "max        6.000000           1.000000            100.000000    499.900000   \n",
       "\n",
       "           Discount  Competitor_Price  Sales_Quantity  \n",
       "count  18483.000000      18483.000000    18019.000000  \n",
       "mean      27.490937        259.858758      255.665631  \n",
       "std       13.022521        126.653165      141.179795  \n",
       "min        5.000000         40.070000       10.000000  \n",
       "25%       16.265000        149.530000      133.500000  \n",
       "50%       27.600000        260.260000      257.000000  \n",
       "75%       38.690000        368.520000      377.000000  \n",
       "max       49.990000        479.990000      499.000000  "
      ]
     },
     "execution_count": 24,
     "metadata": {},
     "output_type": "execute_result"
    }
   ],
   "source": [
    "dataset.describe()"
   ]
  }
 ],
 "metadata": {
  "kernelspec": {
   "display_name": "Python 3",
   "language": "python",
   "name": "python3"
  },
  "language_info": {
   "codemirror_mode": {
    "name": "ipython",
    "version": 3
   },
   "file_extension": ".py",
   "mimetype": "text/x-python",
   "name": "python",
   "nbconvert_exporter": "python",
   "pygments_lexer": "ipython3",
   "version": "3.13.2"
  }
 },
 "nbformat": 4,
 "nbformat_minor": 2
}
